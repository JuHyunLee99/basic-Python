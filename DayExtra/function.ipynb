{
 "cells": [
  {
   "attachments": {},
   "cell_type": "markdown",
   "metadata": {},
   "source": [
    "### 함수 안에 함수 중첩해서 넣기\n",
    "- 예제1  \n",
    "a_func()함수가 스택에 저장되며 실행.  \n",
    "a_fun()함수 내부의 b_func함수도."
   ]
  },
  {
   "cell_type": "code",
   "execution_count": 2,
   "metadata": {},
   "outputs": [
    {
     "name": "stdout",
     "output_type": "stream",
     "text": [
      "it's a_func\n",
      "it's b_func\n"
     ]
    }
   ],
   "source": [
    "def a_func():\n",
    "    def b_func():\n",
    "        print(\"it's b_func\")\n",
    "    print(\"it's a_func\")\n",
    "    b_func()\n",
    "\n",
    "a_func()"
   ]
  },
  {
   "attachments": {},
   "cell_type": "markdown",
   "metadata": {},
   "source": [
    "- 예제2  \n",
    "a_func(), b_func() 모두 실행 (b_func는 정의되지 않고 출력.)  \n",
    "a_func()를 실행하여 해당 함수가 스택에 저장되지만 실행이 종료되면 해당 함수는 스택에서 지워짐.  \n",
    "그러므로 b_func()을 찾을 수 없게됨. -> 오류"
   ]
  },
  {
   "cell_type": "code",
   "execution_count": 4,
   "metadata": {},
   "outputs": [
    {
     "name": "stdout",
     "output_type": "stream",
     "text": [
      "it's a_func\n",
      "it's b_func\n"
     ]
    },
    {
     "ename": "NameError",
     "evalue": "name 'b_func' is not defined",
     "output_type": "error",
     "traceback": [
      "\u001b[1;31m---------------------------------------------------------------------------\u001b[0m",
      "\u001b[1;31mNameError\u001b[0m                                 Traceback (most recent call last)",
      "Cell \u001b[1;32mIn[4], line 8\u001b[0m\n\u001b[0;32m      5\u001b[0m     b_func()\n\u001b[0;32m      7\u001b[0m a_func()\n\u001b[1;32m----> 8\u001b[0m b_func()\n",
      "\u001b[1;31mNameError\u001b[0m: name 'b_func' is not defined"
     ]
    }
   ],
   "source": [
    "def a_func():\n",
    "    def b_func():\n",
    "        print(\"it's b_func\")\n",
    "    print(\"it's a_func\")\n",
    "    b_func()\n",
    "\n",
    "a_func()\n",
    "b_func()"
   ]
  },
  {
   "attachments": {},
   "cell_type": "markdown",
   "metadata": {},
   "source": [
    "- 예제3  \n",
    "함수가 실행되면 스택에 저장되었다가 함수가 종료되면서 지워진다.  만일 해당 함수를 지워지지 않게 계속 쓰고 싶다면 해당 함수를 변수에 넣고 실행  \n",
    ": 변수에 들어간 함수는 메모리 영역에서 변수부분에 할당된 주소에 들어가기 때문에 코드가 실행되는 동안에는 유지된다.  \n",
    "-> a_var변수에 함수를 저장하고 return으로 받은 b_func를 저장한다. 그리고 인자 값으로 넣으면 b_func를 계속 사용할 수 있다.\n"
   ]
  },
  {
   "cell_type": "code",
   "execution_count": 5,
   "metadata": {},
   "outputs": [
    {
     "name": "stdout",
     "output_type": "stream",
     "text": [
      "it's a_func\n",
      "it's b_func\n"
     ]
    }
   ],
   "source": [
    "def a_func(a):\n",
    "    def b_func(b):\n",
    "        print(b)\n",
    "    print(a)\n",
    "    return b_func\n",
    "\n",
    "a_var = a_func(\"it's a_func\")\n",
    "a_var(\"it's b_func\")"
   ]
  },
  {
   "attachments": {},
   "cell_type": "markdown",
   "metadata": {},
   "source": [
    "### @(Decorator)\n",
    "함수를 수정하지 않은 상태에서 추가기능을 구현할 때 사용\n",
    "- @a_func : 아래 정의된 함수를 a_func의 인자값으로 넣겠다는 의미  \n",
    "즉, d_func() 함수가 a_func로 들어감."
   ]
  },
  {
   "cell_type": "code",
   "execution_count": 13,
   "metadata": {},
   "outputs": [
    {
     "name": "stdout",
     "output_type": "stream",
     "text": [
      "a_func\n",
      "##########\n",
      "b_func\n",
      "d_func\n"
     ]
    }
   ],
   "source": [
    "def a_func(b_func):\n",
    "    print('a_func')\n",
    "    def c_func():\n",
    "        print('b_func')\n",
    "        b_func()\n",
    "    return c_func\n",
    "\n",
    "@a_func\n",
    "def d_func():\n",
    "    print('d_func')\n",
    "\n",
    "print('##########')\n",
    "d_func()"
   ]
  }
 ],
 "metadata": {
  "kernelspec": {
   "display_name": "Python 3",
   "language": "python",
   "name": "python3"
  },
  "language_info": {
   "codemirror_mode": {
    "name": "ipython",
    "version": 3
   },
   "file_extension": ".py",
   "mimetype": "text/x-python",
   "name": "python",
   "nbconvert_exporter": "python",
   "pygments_lexer": "ipython3",
   "version": "3.11.2"
  },
  "orig_nbformat": 4
 },
 "nbformat": 4,
 "nbformat_minor": 2
}
