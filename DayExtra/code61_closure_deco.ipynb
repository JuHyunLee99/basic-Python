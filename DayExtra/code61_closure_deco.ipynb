{
 "cells": [
  {
   "attachments": {},
   "cell_type": "markdown",
   "metadata": {},
   "source": [
    "## 클로저(Closure)\n",
    "함수 안에 내부함수 중첩해서 넣고 그 내부함수(inner function)를 리턴하는 함수"
   ]
  },
  {
   "attachments": {},
   "cell_type": "markdown",
   "metadata": {},
   "source": [
    "예제1\n",
    "- 필요할 때마다 mul6(), mul7(), mul8(), …과 같은 함수를 만드는 것은 굉장히 비효율적"
   ]
  },
  {
   "cell_type": "code",
   "execution_count": 4,
   "metadata": {},
   "outputs": [],
   "source": [
    "def mul3(n):\n",
    "    return n*3\n",
    "\n",
    "def mul5(n):\n",
    "    return n*5"
   ]
  },
  {
   "attachments": {},
   "cell_type": "markdown",
   "metadata": {},
   "source": [
    "- 클래스를 이용하면 특정 값을 미리 설정하고 그다음부터 mul() 메서드를 사용하면 원하는 형태로 호출할 수 있다."
   ]
  },
  {
   "cell_type": "code",
   "execution_count": 9,
   "metadata": {},
   "outputs": [
    {
     "name": "stdout",
     "output_type": "stream",
     "text": [
      "30\n",
      "50\n"
     ]
    }
   ],
   "source": [
    "class Mul:\n",
    "    def __init__(self, m):\n",
    "        self.m = m\n",
    "    \n",
    "    def mul(self, n):   # mul\n",
    "        return self.m * n\n",
    "    \n",
    "if __name__ == '__main__':\n",
    "    mul3 = Mul(3)\n",
    "    mul5 = Mul(5)\n",
    "\n",
    "    print(mul3.mul(10))\n",
    "    print(mul5.mul(10))"
   ]
  },
  {
   "attachments": {},
   "cell_type": "markdown",
   "metadata": {},
   "source": [
    "- __call__ 메서드 이용\n",
    "    - Mul 클래스로 만든 객체에 인수를 전달하여 바로 호출할 수 있도록 하는 메서드\n",
    "    - mul3.mul(10) -> mul3(10)"
   ]
  },
  {
   "cell_type": "code",
   "execution_count": 8,
   "metadata": {},
   "outputs": [
    {
     "name": "stdout",
     "output_type": "stream",
     "text": [
      "30\n",
      "50\n"
     ]
    }
   ],
   "source": [
    "class Mul:\n",
    "    def __init__(self, m):\n",
    "        self.m = m\n",
    "    \n",
    "    def __call__(self, n):  # __call__\n",
    "        return self.m * n\n",
    "    \n",
    "if __name__ == '__main__':\n",
    "    mul3 = Mul(3)\n",
    "    mul5 = Mul(5)\n",
    "\n",
    "    print(mul3(10))\n",
    "    print(mul5(10))"
   ]
  },
  {
   "attachments": {},
   "cell_type": "markdown",
   "metadata": {},
   "source": [
    "- 클로저(Closure) 이용\n",
    "    - 외부 함수(mul()) 안에 내부 함수(wrapper())를 구현. 그리고 외부 함수는 내부 함수 wrapper()를 리턴\n",
    "    - mul() 함수에서 wrapper() 함수를 리턴할 때 mul() 함수 호출 시 인수로 받은 m값을 wrapper() 함수에 저장하여 리턴"
   ]
  },
  {
   "cell_type": "code",
   "execution_count": 1,
   "metadata": {},
   "outputs": [
    {
     "name": "stdout",
     "output_type": "stream",
     "text": [
      "30\n",
      "50\n"
     ]
    }
   ],
   "source": [
    "def mul(m):\n",
    "    def wrapper(n):\n",
    "        return m*n\n",
    "    return wrapper\n",
    "\n",
    "if __name__ == '__main__':\n",
    "    mul3 = mul(3)\n",
    "    mul5 = mul(5)\n",
    "\n",
    "    print(mul3(10))\n",
    "    print(mul5(10))"
   ]
  },
  {
   "attachments": {},
   "cell_type": "markdown",
   "metadata": {},
   "source": [
    "예제2 \n",
    "- a_func()함수가 실행되며 스택에 저장.  \n",
    "- a_fun()함수 내부의 b_func함수도."
   ]
  },
  {
   "cell_type": "code",
   "execution_count": 2,
   "metadata": {},
   "outputs": [
    {
     "name": "stdout",
     "output_type": "stream",
     "text": [
      "it's a_func\n",
      "it's b_func\n"
     ]
    }
   ],
   "source": [
    "def a_func():\n",
    "    def b_func():\n",
    "        print(\"it's b_func\")\n",
    "    print(\"it's a_func\")\n",
    "    b_func()\n",
    "\n",
    "a_func()"
   ]
  },
  {
   "attachments": {},
   "cell_type": "markdown",
   "metadata": {},
   "source": [
    "- a_func()를 실행하여 해당 함수가 스택에 저장되지만 실행이 종료되면 해당 함수는 스택에서 지워짐.  \n",
    "- 그러므로 b_func()을 찾을 수 없게됨. -> 오류"
   ]
  },
  {
   "cell_type": "code",
   "execution_count": 4,
   "metadata": {},
   "outputs": [
    {
     "name": "stdout",
     "output_type": "stream",
     "text": [
      "it's a_func\n",
      "it's b_func\n"
     ]
    },
    {
     "ename": "NameError",
     "evalue": "name 'b_func' is not defined",
     "output_type": "error",
     "traceback": [
      "\u001b[1;31m---------------------------------------------------------------------------\u001b[0m",
      "\u001b[1;31mNameError\u001b[0m                                 Traceback (most recent call last)",
      "Cell \u001b[1;32mIn[4], line 8\u001b[0m\n\u001b[0;32m      5\u001b[0m     b_func()\n\u001b[0;32m      7\u001b[0m a_func()\n\u001b[1;32m----> 8\u001b[0m b_func()\n",
      "\u001b[1;31mNameError\u001b[0m: name 'b_func' is not defined"
     ]
    }
   ],
   "source": [
    "def a_func():\n",
    "    def b_func():\n",
    "        print(\"it's b_func\")\n",
    "    print(\"it's a_func\")\n",
    "    b_func()\n",
    "\n",
    "a_func()\n",
    "b_func()"
   ]
  },
  {
   "attachments": {},
   "cell_type": "markdown",
   "metadata": {},
   "source": [
    " - 함수가 실행되면 스택에 저장되었다가 함수가 종료되면서 지워진다.\n",
    "- 해당 함수를 지워지지 않게 계속 쓰고 싶다면 해당 함수를 변수에 넣고 실행  \n",
    ": 변수에 들어간 함수는 메모리 영역에서 변수부분에 할당된 주소에 들어가기 때문에 코드가 실행되는 동안에는 유지된다.  \n",
    "-> a_var변수에 함수를 저장하고 return으로 받은 b_func를 저장한다. 그리고 인자 값으로 넣으면 b_func를 계속 사용할 수 있다.\n"
   ]
  },
  {
   "cell_type": "code",
   "execution_count": 5,
   "metadata": {},
   "outputs": [
    {
     "name": "stdout",
     "output_type": "stream",
     "text": [
      "it's a_func\n",
      "it's b_func\n"
     ]
    }
   ],
   "source": [
    "def a_func(a):\n",
    "    def b_func(b):\n",
    "        print(b)\n",
    "    print(a)\n",
    "    return b_func\n",
    "\n",
    "a_var = a_func(\"it's a_func\")\n",
    "a_var(\"it's b_func\")"
   ]
  },
  {
   "attachments": {},
   "cell_type": "markdown",
   "metadata": {},
   "source": [
    "### @(Decorator)\n",
    "함수를 수정하지 않은 상태에서 추가기능을 구현할 때 사용"
   ]
  },
  {
   "attachments": {},
   "cell_type": "markdown",
   "metadata": {},
   "source": [
    "예제1  \n",
    "- 함수의 실행 시간을 측정\n",
    "- - 하지만, 실행 시간을 측정해야 하는 함수가 myfunc() 말고도 많다면 이런 코드를 모든 함수에 마찬가지로 적용하는 것은 너무 비효율적."
   ]
  },
  {
   "cell_type": "code",
   "execution_count": 3,
   "metadata": {},
   "outputs": [
    {
     "name": "stdout",
     "output_type": "stream",
     "text": [
      "함수가 실행됩니다.\n",
      "함수 수행시간\" 0.000000 초\n"
     ]
    }
   ],
   "source": [
    "import time\n",
    "\n",
    "def myfunc():\n",
    "    start = time.time()\n",
    "    print(\"함수가 실행됩니다.\")\n",
    "    end = time.time()\n",
    "    print('함수 수행시간\" %f 초' % (end-start))\n",
    "\n",
    "myfunc()"
   ]
  },
  {
   "attachments": {},
   "cell_type": "markdown",
   "metadata": {},
   "source": [
    "- 클로저 이용  \n",
    "- 기존 함수를 바꾸지 않고 추가 기능을 덧붙일 수 있도록 하는 elapsed() 함수와 같은 클로저를 데코레이터(Decorator)라 한다."
   ]
  },
  {
   "cell_type": "code",
   "execution_count": 5,
   "metadata": {},
   "outputs": [
    {
     "name": "stdout",
     "output_type": "stream",
     "text": [
      "함수가 실행됩니다.\n",
      "함수 수행시간: 0.000000 초\n"
     ]
    }
   ],
   "source": [
    "import time\n",
    "\n",
    "def elapsed(original_func): # 기존 함수를 인수로 받는다.\n",
    "    def wrapper():\n",
    "        start = time.time()\n",
    "        result = original_func()    # 기존 함수를 수행한다.\n",
    "        end = time.time()\n",
    "        print('함수 수행시간: %f 초' % (end - start))    # 기존 함수의 수행시간 출력\n",
    "        return result   # 기존 함수의 수행 결과를 리턴한다.\n",
    "    return wrapper\n",
    "\n",
    "def myfunc():\n",
    "    print('함수가 실행됩니다.')\n",
    "\n",
    "decorated_myfunc = elapsed(myfunc)\n",
    "decorated_myfunc()"
   ]
  },
  {
   "attachments": {},
   "cell_type": "markdown",
   "metadata": {},
   "source": [
    "- 어노테이션(@+데코레이션 함수명)  \n",
    "함수 위에 어노테이션이 있으면 데코레이터 함수로 인식"
   ]
  },
  {
   "cell_type": "code",
   "execution_count": 6,
   "metadata": {},
   "outputs": [],
   "source": [
    "import time\n",
    "\n",
    "def elapsed(original_func): # 기존 함수를 인수로 받는다.\n",
    "    def wrapper():\n",
    "        start = time.time()\n",
    "        result = original_func()    # 기존 함수를 수행한다.\n",
    "        end = time.time()\n",
    "        print('함수 수행시간: %f 초' % (end-start)) # 기존 함수의 수행시간 출력\n",
    "        return result # 기존 함수의 수행 결과를 리턴한다.\n",
    "    return wrapper\n",
    "\n",
    "@elapsed\n",
    "def myfun():\n",
    "    print('함수가 실행됩니다.')\n",
    "\n",
    "# @elapsed 어노테이션으로 인해 더이상 필요하지 않다.\n",
    "# decorated_myfunc = elapsed(myfunc)  \n",
    "# decorated_myfunc()\n",
    "\n",
    "myfunc()"
   ]
  },
  {
   "attachments": {},
   "cell_type": "markdown",
   "metadata": {},
   "source": [
    "- 오류 발생  \n",
    "myfunc() 함수는 입력 인수가 필요하나 elapsed() 함수 내의 wrapper() 함수는 전달받은 myfunc() 함수를 입력 인수 없이 호출하기 때문에 오류 발생.  \n",
    "- 해결방법  \n",
    "데코레이터 함수는 기존 함수의 입력 인수에 상관없이 동작하도록 해야함."
   ]
  },
  {
   "cell_type": "code",
   "execution_count": 7,
   "metadata": {},
   "outputs": [
    {
     "ename": "TypeError",
     "evalue": "elapsed.<locals>.wrapper() takes 0 positional arguments but 1 was given",
     "output_type": "error",
     "traceback": [
      "\u001b[1;31m---------------------------------------------------------------------------\u001b[0m",
      "\u001b[1;31mTypeError\u001b[0m                                 Traceback (most recent call last)",
      "Cell \u001b[1;32mIn[7], line 16\u001b[0m\n\u001b[0;32m     12\u001b[0m \u001b[39m@elapsed\u001b[39m\n\u001b[0;32m     13\u001b[0m \u001b[39mdef\u001b[39;00m \u001b[39mmyfunc\u001b[39m(msg):\n\u001b[0;32m     14\u001b[0m     \u001b[39mprint\u001b[39m(\u001b[39m\"\u001b[39m\u001b[39m'\u001b[39m\u001b[39m%s\u001b[39;00m\u001b[39m'\u001b[39m\u001b[39m을 출력합니다.\u001b[39m\u001b[39m\"\u001b[39m \u001b[39m%\u001b[39m msg)\n\u001b[1;32m---> 16\u001b[0m myfunc(\u001b[39m'\u001b[39;49m\u001b[39mYou need python\u001b[39;49m\u001b[39m'\u001b[39;49m)   \u001b[39m# 출력할 메세지를 myfunc 파라미터로 전달.\u001b[39;00m\n",
      "\u001b[1;31mTypeError\u001b[0m: elapsed.<locals>.wrapper() takes 0 positional arguments but 1 was given"
     ]
    }
   ],
   "source": [
    "import time\n",
    "\n",
    "def elapsed(original_func): # 기존 함수를 인수로 받는다.\n",
    "    def wrapper():\n",
    "        start = time.time()\n",
    "        result = original_func()    # 기존 함수를 수행한다.\n",
    "        end = time.time()\n",
    "        print('함수 수행시간: %f 초' % (end-start)) # 기존 함수의 수행시간 출력\n",
    "        return result # 기존 함수의 수행 결과를 리턴한다.\n",
    "    return wrapper\n",
    "\n",
    "@elapsed\n",
    "def myfunc(msg):\n",
    "    print(\"'%s'을 출력합니다.\" % msg)\n",
    "\n",
    "myfunc('You need python')   # 출력할 메세지를 myfunc 파라미터로 전달.\n"
   ]
  },
  {
   "attachments": {},
   "cell_type": "markdown",
   "metadata": {},
   "source": [
    "- 가변인자 *args, **kwargs\n",
    "    "
   ]
  },
  {
   "cell_type": "markdown",
   "metadata": {},
   "source": []
  },
  {
   "attachments": {},
   "cell_type": "markdown",
   "metadata": {},
   "source": [
    "- @a_func : 아래 정의된 함수를 a_func의 인자값으로 넣겠다는 의미  \n",
    "즉, d_func() 함수가 a_func로 들어감."
   ]
  },
  {
   "cell_type": "code",
   "execution_count": 13,
   "metadata": {},
   "outputs": [
    {
     "name": "stdout",
     "output_type": "stream",
     "text": [
      "a_func\n",
      "##########\n",
      "b_func\n",
      "d_func\n"
     ]
    }
   ],
   "source": [
    "def a_func(b_func):\n",
    "    print('a_func')\n",
    "    def c_func():\n",
    "        print('b_func')\n",
    "        b_func()\n",
    "    return c_func\n",
    "\n",
    "@a_func\n",
    "def d_func():\n",
    "    print('d_func')\n",
    "\n",
    "print('##########')\n",
    "d_func()"
   ]
  }
 ],
 "metadata": {
  "kernelspec": {
   "display_name": "Python 3",
   "language": "python",
   "name": "python3"
  },
  "language_info": {
   "codemirror_mode": {
    "name": "ipython",
    "version": 3
   },
   "file_extension": ".py",
   "mimetype": "text/x-python",
   "name": "python",
   "nbconvert_exporter": "python",
   "pygments_lexer": "ipython3",
   "version": "3.11.2"
  },
  "orig_nbformat": 4
 },
 "nbformat": 4,
 "nbformat_minor": 2
}
