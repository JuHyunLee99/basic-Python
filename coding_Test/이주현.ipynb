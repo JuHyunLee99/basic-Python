{
 "cells": [
  {
   "attachments": {},
   "cell_type": "markdown",
   "metadata": {},
   "source": [
    "## 1번"
   ]
  },
  {
   "cell_type": "code",
   "execution_count": 15,
   "metadata": {},
   "outputs": [
    {
     "name": "stdout",
     "output_type": "stream",
     "text": [
      "반지름이 5인 원의 넓이는 78.5398입니다.\n"
     ]
    }
   ],
   "source": [
    "PI = 3.141592\n",
    "radius = int(input('반지름을 입력하시오: '))\n",
    "print(f'반지름이 {radius}인 원의 넓이는 {PI*radius**2}입니다.')"
   ]
  },
  {
   "attachments": {},
   "cell_type": "markdown",
   "metadata": {},
   "source": [
    "## 2번"
   ]
  },
  {
   "cell_type": "code",
   "execution_count": 6,
   "metadata": {},
   "outputs": [
    {
     "name": "stdout",
     "output_type": "stream",
     "text": [
      "지구\n"
     ]
    }
   ],
   "source": [
    "planet_dic = {'Mercury':'수성',\n",
    "       'Venus':'금성',\n",
    "       'Earth':'지구',\n",
    "       'Venus':'금성',\n",
    "       'Mars':'화성',\n",
    "       'Jupiter':'목성',\n",
    "       'Saturn':'토성',\n",
    "       'Uranus':'천왕성',\n",
    "       'Neptune':'해왕성'}\n",
    "\n",
    "planet = input('태양계 행성을 영어 입력하세요')\n",
    "\n",
    "try: \n",
    "       print(planet_dic[planet])\n",
    "except:\n",
    "       print('찾는 행성이 없습니다.')"
   ]
  },
  {
   "attachments": {},
   "cell_type": "markdown",
   "metadata": {},
   "source": [
    "## 3번"
   ]
  },
  {
   "cell_type": "code",
   "execution_count": 9,
   "metadata": {},
   "outputs": [
    {
     "name": "stdout",
     "output_type": "stream",
     "text": [
      "I'm going to leave the door open = 7 / I'm GOING to LEAVE the DOOR open "
     ]
    }
   ],
   "source": [
    "sentance = list(map(str, input('영어 문장을 입력하세요 > ').split()))\n",
    "\n",
    "for i in sentance:\n",
    "    print(i, end=' ')\n",
    "\n",
    "print(f'= {len(sentance)}', end=' / ')\n",
    "\n",
    "for i in range(len(sentance)):\n",
    "    if (i+1)%2:\n",
    "        print(sentance[i],end=' ')\n",
    "    else:\n",
    "        print(sentance[i].upper(),end=' ')"
   ]
  },
  {
   "attachments": {},
   "cell_type": "markdown",
   "metadata": {},
   "source": [
    "## 4번"
   ]
  },
  {
   "cell_type": "code",
   "execution_count": 10,
   "metadata": {},
   "outputs": [
    {
     "name": "stdout",
     "output_type": "stream",
     "text": [
      "1 3 5 7 9 __> 9 7 5 3 1 "
     ]
    }
   ],
   "source": [
    "num = list(map(int, input('수를 여러개 입력하세요 > ').split()))\n",
    "\n",
    "for i in num:\n",
    "    print(i, end=' ')\n",
    "\n",
    "print('__>',end=' ')\n",
    "\n",
    "for i in range(len(num)-1,-1,-1):\n",
    "    print(num[i], end=' ')\n",
    "\n",
    "# numbers.reverse()"
   ]
  },
  {
   "attachments": {},
   "cell_type": "markdown",
   "metadata": {},
   "source": [
    "## 5번"
   ]
  },
  {
   "cell_type": "code",
   "execution_count": 13,
   "metadata": {},
   "outputs": [
    {
     "name": "stdout",
     "output_type": "stream",
     "text": [
      "3 __> 3 6 9 12 15 18 21 24 27 "
     ]
    }
   ],
   "source": [
    "x = int(input('구구단을 수행할 단번호를 입력하시오 > '))\n",
    "print(f'{x} __>',end=' ')\n",
    "for y in range(1, 10):\n",
    "   print(x*y, end=' ')"
   ]
  }
 ],
 "metadata": {
  "kernelspec": {
   "display_name": "venv",
   "language": "python",
   "name": "python3"
  },
  "language_info": {
   "codemirror_mode": {
    "name": "ipython",
    "version": 3
   },
   "file_extension": ".py",
   "mimetype": "text/x-python",
   "name": "python",
   "nbconvert_exporter": "python",
   "pygments_lexer": "ipython3",
   "version": "3.11.1"
  },
  "orig_nbformat": 4,
  "vscode": {
   "interpreter": {
    "hash": "0b6fdb2745dfa0156dfc6fcec5fd611e366fe41d63f8d3f9e7745e23bb7f4e74"
   }
  }
 },
 "nbformat": 4,
 "nbformat_minor": 2
}
